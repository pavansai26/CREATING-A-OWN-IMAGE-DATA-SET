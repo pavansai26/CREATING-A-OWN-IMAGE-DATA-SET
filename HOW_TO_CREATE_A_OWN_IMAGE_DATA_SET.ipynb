{
  "nbformat": 4,
  "nbformat_minor": 0,
  "metadata": {
    "colab": {
      "name": "HOW TO CREATE A OWN IMAGE DATA SET",
      "provenance": [],
      "private_outputs": true,
      "include_colab_link": true
    },
    "kernelspec": {
      "name": "python3",
      "display_name": "Python 3"
    }
  },
  "cells": [
    {
      "cell_type": "markdown",
      "metadata": {
        "id": "view-in-github",
        "colab_type": "text"
      },
      "source": [
        "<a href=\"https://colab.research.google.com/github/pavansai26/CREATING-A-OWN-IMAGE-DATA-SET/blob/master/HOW_TO_CREATE_A_OWN_IMAGE_DATA_SET.ipynb\" target=\"_parent\"><img src=\"https://colab.research.google.com/assets/colab-badge.svg\" alt=\"Open In Colab\"/></a>"
      ]
    },
    {
      "cell_type": "code",
      "metadata": {
        "id": "LRuQm3pNf2L8",
        "colab_type": "code",
        "colab": {}
      },
      "source": [
        "import cv2"
      ],
      "execution_count": 0,
      "outputs": []
    },
    {
      "cell_type": "code",
      "metadata": {
        "id": "G3DAbvgsC9s6",
        "colab_type": "code",
        "colab": {}
      },
      "source": [
        "import numpy as np\n",
        "import pandas as pd\n",
        "import matplotlib.pyplot as plt\n",
        "import os"
      ],
      "execution_count": 0,
      "outputs": []
    },
    {
      "cell_type": "code",
      "metadata": {
        "id": "EvuxWLK2D542",
        "colab_type": "code",
        "colab": {}
      },
      "source": [
        "file='C:/Users/lenovo/Documents/images'\n",
        "categories=['basic phones','smart phones']"
      ],
      "execution_count": 0,
      "outputs": []
    },
    {
      "cell_type": "code",
      "metadata": {
        "id": "bYG6H1BmENp0",
        "colab_type": "code",
        "colab": {}
      },
      "source": [
        "for category in categories:\n",
        "  path=os.path.join(file,categories)\n",
        "  for img in os.listdir(path):\n",
        "    img_array=cv2.imread(os.path.join(path,img),cv2.IMREAD.GRAYSCALE)\n",
        "    plt.imshow(img_array,cmap='gray')\n",
        "    plt.show()\n",
        "    break\n",
        "  break"
      ],
      "execution_count": 0,
      "outputs": []
    },
    {
      "cell_type": "code",
      "metadata": {
        "id": "vNUktMezGqES",
        "colab_type": "code",
        "colab": {}
      },
      "source": [
        "print(img_array)"
      ],
      "execution_count": 0,
      "outputs": []
    },
    {
      "cell_type": "code",
      "metadata": {
        "id": "NtbS4MAsGyRO",
        "colab_type": "code",
        "colab": {}
      },
      "source": [
        "# without grayscale\n",
        "for category in categories:\n",
        "  path=os.path.join(file,categories)\n",
        "  for img in os.listdir(path):\n",
        "    img_array1=cv2.imread(os.path.join(path,img))\n",
        "    plt.imshow(img_array1,cmap='gray')\n",
        "    plt.show()\n",
        "    break\n",
        "  break"
      ],
      "execution_count": 0,
      "outputs": []
    },
    {
      "cell_type": "code",
      "metadata": {
        "id": "iNDvGgZyHCXt",
        "colab_type": "code",
        "colab": {}
      },
      "source": [
        "print(img_array1)"
      ],
      "execution_count": 0,
      "outputs": []
    },
    {
      "cell_type": "code",
      "metadata": {
        "id": "b3R6fBlyHKUJ",
        "colab_type": "code",
        "colab": {}
      },
      "source": [
        "#convert all the images into samesize because some images are in landscape and some in portrait\n",
        "for i in range(10):\n",
        "  imgsize=[50,20,30,70,100,150,250,500,1000,2000]\n",
        "  newarray=cv2.resize(imgarray,(imgsize,imgsize))\n",
        "  plt.imshow(newarray,cmap='gray')\n",
        "  plt.show()"
      ],
      "execution_count": 0,
      "outputs": []
    },
    {
      "cell_type": "code",
      "metadata": {
        "id": "LsLPvszNHKtf",
        "colab_type": "code",
        "colab": {}
      },
      "source": [
        "train_data=[]\n",
        "def create_training_data():\n",
        "  for category in categories:\n",
        "  path=os.path.join(file,categories)\n",
        "  for img in os.listdir(path):\n",
        "    img_array=cv2.imread(os.path.join(path,img),cv2.IMREAD.GRAYSCALE)\n",
        "    plt.imshow(img_array,cmap='gray')\n",
        "    plt.show()\n",
        "    break\n",
        "  break"
      ],
      "execution_count": 0,
      "outputs": []
    },
    {
      "cell_type": "code",
      "metadata": {
        "id": "LL_BSX90HK84",
        "colab_type": "code",
        "colab": {}
      },
      "source": [
        "train_data1=[]\n",
        "def create_training_data():\n",
        "  for category in categories:\n",
        "  path=os.path.join(file,categories)\n",
        "  for img in os.listdir(path):\n",
        "    img_array=cv2.imread(os.path.join(path,img))\n",
        "    plt.imshow(img_array)\n",
        "    plt.show()\n",
        "    break\n",
        "  break"
      ],
      "execution_count": 0,
      "outputs": []
    },
    {
      "cell_type": "code",
      "metadata": {
        "id": "q1SavNN8J9Cj",
        "colab_type": "code",
        "colab": {}
      },
      "source": [
        "train_data2=[]\n",
        "def create_training_data():\n",
        "  for category in categories:\n",
        "    path=os.path.join(file,categories)\n",
        "    class_num=categories.index(category)\n",
        "    for img in os.listdir(path):\n",
        "      try:\n",
        "        img_array=cv2.imread(os.path.join(path,img))\n",
        "        for i in range(10):\n",
        "          imgsize=[50,20,30,70,100,150,250,500,1000,2000]\n",
        "          newarray=cv2.resize(imgarray,(imgsize,imgsize))\n",
        "          training_data2.append([newarray,class_num])\n",
        "      except Exception as e:\n",
        "        pass\n",
        "\n",
        "\n",
        "create_training_data()"
      ],
      "execution_count": 0,
      "outputs": []
    },
    {
      "cell_type": "code",
      "metadata": {
        "id": "-iDgHDDrJ9d-",
        "colab_type": "code",
        "colab": {}
      },
      "source": [
        "print(len(training_data2))"
      ],
      "execution_count": 0,
      "outputs": []
    },
    {
      "cell_type": "code",
      "metadata": {
        "id": "5p5m0R0lMeWX",
        "colab_type": "code",
        "colab": {}
      },
      "source": [
        "import random\n",
        "random.shuffle(training_data2)"
      ],
      "execution_count": 0,
      "outputs": []
    },
    {
      "cell_type": "code",
      "metadata": {
        "id": "kg7L5XUNMe3p",
        "colab_type": "code",
        "colab": {}
      },
      "source": [
        "for sample in training_data2[:10]:\n",
        "  print(sample[1])"
      ],
      "execution_count": 0,
      "outputs": []
    },
    {
      "cell_type": "code",
      "metadata": {
        "id": "74LaL2ZSMfDM",
        "colab_type": "code",
        "colab": {}
      },
      "source": [
        "x=[]\n",
        "y=[]"
      ],
      "execution_count": 0,
      "outputs": []
    },
    {
      "cell_type": "code",
      "metadata": {
        "id": "svNVD94Tv7TJ",
        "colab_type": "code",
        "colab": {}
      },
      "source": [
        ""
      ],
      "execution_count": 0,
      "outputs": []
    },
    {
      "cell_type": "code",
      "metadata": {
        "id": "-IZd2qsdMe1E",
        "colab_type": "code",
        "colab": {}
      },
      "source": [
        "for features,label in training_data2:\n",
        "  x.append(features)\n",
        "  y.append(features)\n",
        "x=np.array(x).reshape(-1,imgsize,imgsize,1)"
      ],
      "execution_count": 0,
      "outputs": []
    },
    {
      "cell_type": "code",
      "metadata": {
        "id": "2Uo4yMB7MeTp",
        "colab_type": "code",
        "colab": {}
      },
      "source": [
        "import pickle\n",
        "pickle_out=open('x.pickle','wb')\n",
        "pickle.dump(x,pickle_out)\n",
        "pickle_out.close()"
      ],
      "execution_count": 0,
      "outputs": []
    },
    {
      "cell_type": "code",
      "metadata": {
        "id": "izMkfH0nMeQA",
        "colab_type": "code",
        "colab": {}
      },
      "source": [
        "pickle_out=open('y.pickle','wb')\n",
        "pickle.dump(y,pickle_out)\n",
        "pickle_out.close()"
      ],
      "execution_count": 0,
      "outputs": []
    },
    {
      "cell_type": "code",
      "metadata": {
        "id": "kBEeWNnKMeGt",
        "colab_type": "code",
        "colab": {}
      },
      "source": [
        "pickle_in=open('y.pickle','rb')\n",
        "y=pickle.load(pickle_in)"
      ],
      "execution_count": 0,
      "outputs": []
    },
    {
      "cell_type": "code",
      "metadata": {
        "id": "qsWzFttsJ9sD",
        "colab_type": "code",
        "colab": {}
      },
      "source": [
        "x=pickle.load(open('x.pickle','rb'))\n",
        "y=pickle.load(open('y.pickle','rb'))"
      ],
      "execution_count": 0,
      "outputs": []
    },
    {
      "cell_type": "code",
      "metadata": {
        "id": "Z32mwX6xoB7C",
        "colab_type": "code",
        "colab": {}
      },
      "source": [
        "x=x/255"
      ],
      "execution_count": 0,
      "outputs": []
    },
    {
      "cell_type": "code",
      "metadata": {
        "id": "zaoWLOjOoGEZ",
        "colab_type": "code",
        "colab": {}
      },
      "source": [
        ""
      ],
      "execution_count": 0,
      "outputs": []
    }
  ]
}